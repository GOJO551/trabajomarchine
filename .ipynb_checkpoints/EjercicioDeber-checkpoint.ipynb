{
 "cells": [
  {
   "cell_type": "markdown",
   "id": "3953205a-6013-43f8-9a6e-4812c6609c51",
   "metadata": {},
   "source": [
    "<img src=\"img/Recurso-26.png\" width=\"200\">\n",
    "\n",
    "## 01MIAR - Python 101, Data Types\n",
    "\n",
    "![logo](img/python_logo.png)\n",
    "\n",
    "*Ivan Lisintuña*\n",
    "<br>\n",
    "https://github.com/GOJO551/trabajomarchine.git"
   ]
  },
  {
   "cell_type": "markdown",
   "id": "dfdc1299-d009-4c4b-a51b-c847619bb03c",
   "metadata": {},
   "source": [
    "## Ejercicios"
   ]
  },
  {
   "cell_type": "markdown",
   "id": "171be563-09cc-4253-b054-f5cc2ff0560c",
   "metadata": {},
   "source": [
    "1. Escribe un programa que muestre por pantalla la concatenación de un número y una cadena de caracteres. Para obtener esta concatenación puedes usar uno de los operadores explicados en este tema. Ejemplo: dado el número 3 y la cadena 'abc', el programa mostrará la cadena '3abc'."
   ]
  },
  {
   "cell_type": "code",
   "execution_count": 1,
   "id": "c536f444-3386-4aa9-ae2f-24ef86912c26",
   "metadata": {},
   "outputs": [
    {
     "name": "stdout",
     "output_type": "stream",
     "text": [
      "3abc\n"
     ]
    }
   ],
   "source": [
    "# Ejercicio 1\n",
    "numero = 3\n",
    "cadena = 'abc'\n",
    "resultado = str(numero) + cadena\n",
    "print(resultado)"
   ]
  },
  {
   "cell_type": "markdown",
   "id": "f9f57d8b-c7b7-4f93-a533-2553793e1885",
   "metadata": {},
   "source": [
    "2. Escribe un programa que muestre por pantalla un valor booleano que indique si un número entero *N* está contenido en un intervalo semiabierto *[a,b)*, el cual establece una cota inferior *a* (inclusive) y una cota superior *b* (exclusive) para *N*."
   ]
  },
  {
   "cell_type": "code",
   "execution_count": 2,
   "id": "5465e38f-4c72-48a2-9c8b-afd7502c9b99",
   "metadata": {},
   "outputs": [
    {
     "name": "stdout",
     "output_type": "stream",
     "text": [
      "True\n"
     ]
    }
   ],
   "source": [
    "# Ejercicio 2\n",
    "N = 5\n",
    "a = 3\n",
    "b = 10\n",
    "resultado = a <= N < b\n",
    "print(resultado) "
   ]
  },
  {
   "cell_type": "markdown",
   "id": "9c17b98c-8ab3-4905-9317-c9e9a1100f06",
   "metadata": {},
   "source": [
    "3. Escribe un programa que, dado dos strings *S1* y *S2* y dos números enteros *N1* y *N2*, determine si el substring que en *S1* se extiende desde la posición *N1* a la *N2* (ambos inclusive) está contenido en *S2*."
   ]
  },
  {
   "cell_type": "code",
   "execution_count": 3,
   "id": "6efd6a89-0224-4c20-b24b-71e25ffbd2dc",
   "metadata": {},
   "outputs": [
    {
     "name": "stdout",
     "output_type": "stream",
     "text": [
      "True\n"
     ]
    }
   ],
   "source": [
    "# Ejercicio 3\n",
    "S1 = \"Hola Mundo\"\n",
    "S2 = \"Mundo\"\n",
    "N1 = 5\n",
    "N2 = 10\n",
    "substring = S1[N1:N2 + 1]\n",
    "resultado = substring in S2\n",
    "print(resultado) "
   ]
  },
  {
   "cell_type": "markdown",
   "id": "6fd434b3-632d-4ab9-818b-ae635f3fe892",
   "metadata": {},
   "source": [
    "4. Dada una *lista* con elementos duplicados, escribir un programa que muestre una nueva *lista* con el mismo contenido que la primera pero sin elementos duplicados."
   ]
  },
  {
   "cell_type": "code",
   "execution_count": 8,
   "id": "bf71fcf8-a40a-4057-b9e2-6363b24488cd",
   "metadata": {},
   "outputs": [
    {
     "name": "stdout",
     "output_type": "stream",
     "text": [
      "[1, 2, 3, 4, 5]\n"
     ]
    }
   ],
   "source": [
    "# Ejercicio 4\n",
    "lista_con_duplicados = [1, 2, 2, 3, 4, 4, 5]\n",
    "lista_sin_duplicados = list(set(lista_con_duplicados))\n",
    "print(lista_sin_duplicados) "
   ]
  },
  {
   "cell_type": "markdown",
   "id": "512d773c-7535-48ae-8409-3f28e6bfaf76",
   "metadata": {},
   "source": [
    "5. Escribe un programa que, dada una *lista* de strings *L*, un string *s* perteneciente a *L* y un string *t*, reemplace *s* por *t* en *L*. El programa debe mostrar la lista resultante por pantalla."
   ]
  },
  {
   "cell_type": "code",
   "execution_count": 7,
   "id": "23424849-5d8d-46e0-94bf-fd7d5f7da18a",
   "metadata": {},
   "outputs": [
    {
     "name": "stdout",
     "output_type": "stream",
     "text": [
      "['manzana', 'kiwi', 'cereza']\n"
     ]
    }
   ],
   "source": [
    "# Ejercicio 5\n",
    "L = [\"manzana\", \"banana\", \"cereza\"]\n",
    "s = \"banana\"\n",
    "t = \"kiwi\"\n",
    "L_resultante = [t if x == s else x for x in L]\n",
    "print(L_resultante) "
   ]
  },
  {
   "cell_type": "markdown",
   "id": "fa43de57-4036-4e33-9e8e-5b6cea64a2db",
   "metadata": {},
   "source": [
    "6. Escribe un programa que defina una *tupla* con elementos numéricos, reemplace el valor del último por un valor diferente y muestre la *tupla* por pantalla. Recuerda que las *tuplas* son inmutables. Tendrás que usar objetos intermedios."
   ]
  },
  {
   "cell_type": "code",
   "execution_count": 6,
   "id": "502246f9-4197-41da-a8b7-4fb98046cdc3",
   "metadata": {},
   "outputs": [
    {
     "name": "stdout",
     "output_type": "stream",
     "text": [
      "(1, 2, 3, 5)\n"
     ]
    }
   ],
   "source": [
    "# Ejercicio 6\n",
    "tupla = (1, 2, 3, 4)\n",
    "nuevo_valor = 5\n",
    "tupla_nueva = tupla[:-1] + (nuevo_valor,)\n",
    "print(tupla_nueva) "
   ]
  },
  {
   "cell_type": "markdown",
   "id": "ec677e34-8ce3-4ded-b744-9cd594d226f9",
   "metadata": {},
   "source": [
    "7. Dada la lista [1,2,3,4,5,6,7,8] escribe un programa que, a partir de esta lista, obtenga la lista [8,6,4,2] y la muestre por pantalla."
   ]
  },
  {
   "cell_type": "code",
   "execution_count": 9,
   "id": "0b50a7e1-324d-4382-8a05-8da15cec92be",
   "metadata": {},
   "outputs": [
    {
     "name": "stdout",
     "output_type": "stream",
     "text": [
      "[8, 6, 4, 2]\n"
     ]
    }
   ],
   "source": [
    "# Ejercicio 7\n",
    "lista = [1, 2, 3, 4, 5, 6, 7, 8]\n",
    "lista_pares = lista[::-2]\n",
    "print(lista_pares)  "
   ]
  },
  {
   "cell_type": "markdown",
   "id": "c0b558e1-e88e-4a3e-9e0d-782daf2e1484",
   "metadata": {},
   "source": [
    "8. Escribe un programa que, dada una tupla y un índice válido *i*, elimine el elemento de la tupla que se encuentra en la posición *i*. Para este ejercicio sólo puedes usar objetos de tipo tupla. No puedes convetir la *tupla* a una *lista*, por ejemplo."
   ]
  },
  {
   "cell_type": "code",
   "execution_count": 10,
   "id": "15a314f9-dbb7-402c-b2ba-3feee2a98bc8",
   "metadata": {},
   "outputs": [
    {
     "name": "stdout",
     "output_type": "stream",
     "text": [
      "(0, 1, 3, 4)\n"
     ]
    }
   ],
   "source": [
    "# Ejercicio 8\n",
    "tupla = (0, 1, 2, 3, 4)\n",
    "i = 2\n",
    "tupla_nueva = tupla[:i] + tupla[i+1:]\n",
    "print(tupla_nueva) "
   ]
  },
  {
   "cell_type": "markdown",
   "id": "ef4ba8dd-ac22-4dc8-8f7e-bf3b095d1b30",
   "metadata": {},
   "source": [
    "9. Escribe un programa que obtenga la mediana de una *lista* de números. Recuerda que la mediana *M* de una lista de números *L* es el número que cumple la siguiente propiedad: la mitad de los números de *L* son superiores a *M* y la otra mitad son inferiores. Cuando el número de elementos de *L* es par, se puede considerar que hay dos medianas. No obstante, en este ejercicio consideraremos que únicamente existe una mediana."
   ]
  },
  {
   "cell_type": "code",
   "execution_count": 11,
   "id": "ffebe6d9-6c45-4b05-8580-cd72a0832e47",
   "metadata": {},
   "outputs": [
    {
     "name": "stdout",
     "output_type": "stream",
     "text": [
      "3\n"
     ]
    }
   ],
   "source": [
    "# Ejercicio 9\n",
    "def calcular_mediana(lista):\n",
    "    lista_ordenada = sorted(lista)\n",
    "    n = len(lista_ordenada)\n",
    "    if n % 2 == 1:\n",
    "        return lista_ordenada[n // 2]\n",
    "    else:\n",
    "        return lista_ordenada[n // 2 - 1]  # Consideramos solo una mediana\n",
    "\n",
    "numeros = [3, 1, 4, 2, 5]\n",
    "mediana = calcular_mediana(numeros)\n",
    "print(mediana) "
   ]
  },
  {
   "cell_type": "code",
   "execution_count": null,
   "id": "79c994ba-7c57-4a5c-b96f-c0666e5c18b8",
   "metadata": {},
   "outputs": [],
   "source": []
  }
 ],
 "metadata": {
  "kernelspec": {
   "display_name": "Python 3 (ipykernel)",
   "language": "python",
   "name": "python3"
  },
  "language_info": {
   "codemirror_mode": {
    "name": "ipython",
    "version": 3
   },
   "file_extension": ".py",
   "mimetype": "text/x-python",
   "name": "python",
   "nbconvert_exporter": "python",
   "pygments_lexer": "ipython3",
   "version": "3.13.5"
  }
 },
 "nbformat": 4,
 "nbformat_minor": 5
}
