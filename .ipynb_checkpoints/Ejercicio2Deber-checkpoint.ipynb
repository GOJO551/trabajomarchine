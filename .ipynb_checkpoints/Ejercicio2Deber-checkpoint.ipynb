{
 "cells": [
  {
   "cell_type": "markdown",
   "id": "56d0c848-890c-469b-867e-b86564597dde",
   "metadata": {},
   "source": [
    "<img src=\"img/Recurso-26.png\" width=\"200\">\n",
    "\n",
    "## 01MIAR - Python 101, Estructuras de Control\n",
    "\n",
    "![logo](img/python_logo.png)\n",
    "\n",
    "*Ivan Lisintuña*\n",
    "<br>\n",
    "https://github.com/GOJO551/trabajomarchine.git"
   ]
  },
  {
   "cell_type": "markdown",
   "id": "9b0fd2ab-224d-4e4a-a8b3-34b12a1a2f01",
   "metadata": {},
   "source": [
    "## Ejercicios"
   ]
  },
  {
   "cell_type": "markdown",
   "id": "4e4c5a75-a666-4c7e-b23b-c54e92addf43",
   "metadata": {},
   "source": [
    "1. Escribe un programa que calcule la suma de todos los elementos de una *lista* dada. La lista sólo puede contener elementos numéricos.\n"
   ]
  },
  {
   "cell_type": "code",
   "execution_count": 24,
   "id": "9977c5a0-43ab-4e75-aba9-714811a3e50d",
   "metadata": {},
   "outputs": [
    {
     "name": "stdout",
     "output_type": "stream",
     "text": [
      "Suma total: 57\n"
     ]
    }
   ],
   "source": [
    "# Creamos una lista con varios números\n",
    "numeros = [1, 2, 3, 46, 5]\n",
    "\n",
    "# Inicializamos una variable para guardar la suma\n",
    "suma = 0\n",
    "\n",
    "# Recorremos la lista con un ciclo for\n",
    "for numero in numeros:\n",
    "    # En cada vuelta, sumamos el número actual a la suma total\n",
    "    suma += numero\n",
    "\n",
    "# Mostramos la suma total por pantalla\n",
    "print(\"Suma total:\", suma)\n"
   ]
  },
  {
   "cell_type": "markdown",
   "id": "9860e2db-76b7-441a-8e82-f9df60dc73b1",
   "metadata": {},
   "source": [
    "2. Dada una lista con elementos duplicados, escribir un programa que muestre una nueva lista con el mismo contenido que la primera pero sin elementos duplicados. Para este ejercicio, no puedes hacer uso de objetos de tipo 'Set'. "
   ]
  },
  {
   "cell_type": "code",
   "execution_count": 26,
   "id": "3060a299-c1f0-4bdc-998f-6d6793d471bc",
   "metadata": {},
   "outputs": [
    {
     "name": "stdout",
     "output_type": "stream",
     "text": [
      "Lista sin duplicados: [1, 2, 3, 4, 5, 6]\n"
     ]
    }
   ],
   "source": [
    "# Lista original con elementos duplicados\n",
    "lista = [1, 2, 2, 3, 4, 4, 5,5,6]\n",
    "\n",
    "# Lista nueva donde pondremos solo los elementos únicos\n",
    "sin_repetidos = []\n",
    "\n",
    "# Variable para controlar el índice de la lista original\n",
    "i = 0\n",
    "\n",
    "# Usamos un ciclo while para recorrer todos los elementos\n",
    "while i < len(lista):\n",
    "    # Guardamos el elemento actual\n",
    "    elemento = lista[i]\n",
    "\n",
    "    # Verificamos si aún no está en la lista nueva\n",
    "    if elemento not in sin_repetidos:\n",
    "        # Si no está, lo agregamos\n",
    "        sin_repetidos.append(elemento)\n",
    "\n",
    "    # Avanzamos al siguiente índice\n",
    "    i += 1\n",
    "\n",
    "# Mostramos la lista sin duplicados\n",
    "print(\"Lista sin duplicados:\", sin_repetidos)\n"
   ]
  },
  {
   "cell_type": "markdown",
   "id": "f7c1d7e1-cb05-43e8-9dac-0a4a2012bbfb",
   "metadata": {},
   "source": [
    "3. Escribe un programa que construya un diccionario que contenga un número (entre 1 y *n*) de elementos de esta forma: (x, x*x). Ejemplo: para n = 5, el diccionario resultante sería {1: 1, 2: 4, 3: 9, 4: 16, 5: 25}"
   ]
  },
  {
   "cell_type": "code",
   "execution_count": 27,
   "id": "72f1174c-a35e-4e05-8cdc-81c50bb86a05",
   "metadata": {},
   "outputs": [
    {
     "name": "stdout",
     "output_type": "stream",
     "text": [
      "Diccionario de cuadrados: {1: 1, 2: 4, 3: 9, 4: 16, 5: 25}\n"
     ]
    }
   ],
   "source": [
    "# Definimos el número n hasta donde queremos construir el diccionario\n",
    "n = 5\n",
    "\n",
    "# Creamos un diccionario vacío donde guardaremos los pares clave:valor\n",
    "cuadrados = {}\n",
    "\n",
    "# Inicializamos el contador en 1\n",
    "i = 1\n",
    "\n",
    "# Mientras el contador no supere a n\n",
    "while i <= n:\n",
    "    # Guardamos en el diccionario la clave i con el valor i al cuadrado\n",
    "    cuadrados[i] = i * i\n",
    "\n",
    "    # Incrementamos el contador\n",
    "    i += 1\n",
    "\n",
    "# Mostramos el resultado final\n",
    "print(\"Diccionario de cuadrados:\", cuadrados)\n"
   ]
  },
  {
   "cell_type": "markdown",
   "id": "85da7d59-730c-4a96-a510-04ec9bbffda5",
   "metadata": {},
   "source": [
    "4. Escribe un programa que, dada una lista de palabras, compruebe si alguna empieza por 'a' y tiene más de 9 caracteres. Si dicha palabra existe, el programa deberá terminar en el momento exacto de encontrarla. El programa también debe mostrar un mensaje apropiado por pantalla que indique el éxito o el fracaso de la búsqueda. En caso de éxito, también se mostrará por pantalla la palabra encontrada."
   ]
  },
  {
   "cell_type": "code",
   "execution_count": 28,
   "id": "0698ade4-54e9-43b0-acdf-5dfd353ef248",
   "metadata": {},
   "outputs": [
    {
     "name": "stdout",
     "output_type": "stream",
     "text": [
      "Palabra encontrada: autoestima\n"
     ]
    }
   ],
   "source": [
    "# Lista de palabras para evaluar\n",
    "palabras = ['autoestima', 'zapato', 'abecedario', 'avanzadamente']\n",
    "\n",
    "# Recorremos cada palabra de la lista\n",
    "for palabra in palabras:\n",
    "    # Verificamos si la palabra comienza con 'a' y tiene más de 9 caracteres\n",
    "    if palabra.startswith('a') and len(palabra) > 9:\n",
    "        # Si cumple las dos condiciones, mostramos un mensaje\n",
    "        print(\"Palabra encontrada:\", palabra)\n",
    "        # Terminamos el ciclo, ya no hace falta seguir buscando\n",
    "        break\n",
    "# Esta parte solo se ejecuta si no se encontró ninguna palabra válida\n",
    "else:\n",
    "    print(\"No se encontró ninguna palabra válida.\")\n"
   ]
  },
  {
   "cell_type": "markdown",
   "id": "1c58aaa7-f7ac-4fd9-a282-ea91dd1ebc7a",
   "metadata": {},
   "source": [
    "5. Dada una lista *L* de números positivos, escribir un programa que muestre otra lista (ordenada) que contenga todo índice *i* que cumpla la siguiente condición: *L[i]* es múltiplo de 3. Por ejemplo, dada la lista *L* = [3,5,13,12,1,9] el programa mostrará la lista [0,3,5] dado que *L[0], L[3] y L[5]* son, respectivamente, 3, 12 y 9, que son los únicos múltiplos de 3 que hay en *L*."
   ]
  },
  {
   "cell_type": "code",
   "execution_count": 29,
   "id": "01e8ba1e-aacc-42b5-9aa5-d2c53d7da5d3",
   "metadata": {},
   "outputs": [
    {
     "name": "stdout",
     "output_type": "stream",
     "text": [
      "Índices con múltiplos de 3: [0, 3, 5]\n"
     ]
    }
   ],
   "source": [
    "# Lista de números que vamos a analizar\n",
    "L = [3, 5, 13, 12, 1, 9]\n",
    "\n",
    "# Lista vacía donde guardaremos los índices que cumplen la condición\n",
    "indices = []\n",
    "\n",
    "# Recorremos la lista usando índices con range()\n",
    "for i in range(len(L)):\n",
    "    # Verificamos si el valor en la posición i es múltiplo de 3\n",
    "    if L[i] % 3 == 0:\n",
    "        # Si lo es, agregamos el índice a la lista\n",
    "        indices.append(i)\n",
    "\n",
    "# Mostramos la lista de índices que cumplen la condición\n",
    "print(\"Índices con múltiplos de 3:\", indices)\n"
   ]
  },
  {
   "cell_type": "markdown",
   "id": "f3e36b4b-e162-4820-8cf6-e4e4db7fa60b",
   "metadata": {},
   "source": [
    "6. Dado un diccionario cuyos elementos son pares de tipo string y numérico (es decir, las claves son de tipo 'str' y los valores son de tipo 'int' o 'float'), escribe un programa que muestre por pantalla la clave cuyo valor asociado representa el valor númerico más alto de todo el diccionario. Por ejemplo, para el diccionario {'a': 4.3, 'b': 1, 'c': 7.8, 'd': -5} la respuesta sería 'c', dado que 7.8 es el valor más alto de los números 4.3, 1, 7.8 y -5.\n"
   ]
  },
  {
   "cell_type": "code",
   "execution_count": 30,
   "id": "ae70d0ab-85d1-4f1d-9af5-589d9f21f3cd",
   "metadata": {},
   "outputs": [
    {
     "name": "stdout",
     "output_type": "stream",
     "text": [
      "Clave con el valor más alto: c\n"
     ]
    }
   ],
   "source": [
    "# Diccionario con claves tipo texto y valores numéricos\n",
    "valores = {'a': 4.3, 'b': 1, 'c': 7.8, 'd': -5}\n",
    "\n",
    "# Inicializamos la clave del valor máximo como None\n",
    "clave_max = None\n",
    "\n",
    "# Inicializamos el valor máximo con el valor más bajo posible\n",
    "valor_max = float('-inf')\n",
    "\n",
    "# Recorremos todas las claves del diccionario\n",
    "for clave in valores:\n",
    "    # Si el valor actual es mayor que el máximo guardado\n",
    "    if valores[clave] > valor_max:\n",
    "        # Actualizamos el valor máximo\n",
    "        valor_max = valores[clave]\n",
    "        # Guardamos la clave correspondiente\n",
    "        clave_max = clave\n",
    "\n",
    "# Mostramos la clave que tiene el valor más alto\n",
    "print(\"Clave con el valor más alto:\", clave_max)\n"
   ]
  },
  {
   "cell_type": "markdown",
   "id": "0db52083-639e-4f20-aaac-9ce1980f6bf3",
   "metadata": {},
   "source": [
    "7. Dada la lista *a* = [2, 4, 6, 8] y la lista *b* = [7, 11, 15, 22], escribe un programa que itere las listas *a* y *b* y multiplique cada elemento de *a* que sea mayor que 5 por cada elemento de *b* que sea menor que 14. El programa debe mostrar los resultados por pantalla."
   ]
  },
  {
   "cell_type": "code",
   "execution_count": 31,
   "id": "f074ab50-0dd4-4bc0-8d29-e12a9837ee21",
   "metadata": {},
   "outputs": [
    {
     "name": "stdout",
     "output_type": "stream",
     "text": [
      "6 * 7 = 42\n",
      "6 * 11 = 66\n",
      "8 * 7 = 56\n",
      "8 * 11 = 88\n"
     ]
    }
   ],
   "source": [
    "# Lista a con algunos números\n",
    "a = [2, 4, 6, 8]\n",
    "\n",
    "# Lista b con algunos números\n",
    "b = [7, 11, 15, 22]\n",
    "\n",
    "# Recorremos cada elemento de la lista a\n",
    "for x in a:\n",
    "    # Solo consideramos los valores mayores que 5\n",
    "    if x > 5:\n",
    "        # Para cada elemento válido de a, recorremos todos los de b\n",
    "        for y in b:\n",
    "            # Solo multiplicamos por los valores de b menores que 14\n",
    "            if y < 14:\n",
    "                # Calculamos la multiplicación y la mostramos\n",
    "                print(f\"{x} * {y} = {x * y}\")\n"
   ]
  },
  {
   "cell_type": "markdown",
   "id": "1f4b8d67-f425-42f4-8dcf-f15926c7a407",
   "metadata": {},
   "source": [
    "8. Escribir un programa que pida un valor numérico X al usuario. Para ello podéis hacer uso de la función predefinida 'input'. El programa deberá mostrar por pantalla el resultado de la división 10/X. En caso de que el usuario introduzca valores no apropiados, el programa deberá gestionar correctamente las excepciones, por ejemplo, mostrando mensajes informativos por pantalla."
   ]
  },
  {
   "cell_type": "code",
   "execution_count": 32,
   "id": "bf403f6d-ee76-4508-90c4-5f0d94a5ca59",
   "metadata": {},
   "outputs": [
    {
     "name": "stdin",
     "output_type": "stream",
     "text": [
      "Ingresa un número:  9\n"
     ]
    },
    {
     "name": "stdout",
     "output_type": "stream",
     "text": [
      "Resultado: 1.1111111111111112\n"
     ]
    }
   ],
   "source": [
    "try:\n",
    "    # Pedimos al usuario que ingrese un número, convertimos a float\n",
    "    x = float(input(\"Ingresa un número: \"))\n",
    "\n",
    "    # Calculamos la división\n",
    "    resultado = 10 / x\n",
    "\n",
    "    # Mostramos el resultado\n",
    "    print(\"Resultado:\", resultado)\n",
    "\n",
    "# Capturamos si el usuario ingresó cero, que genera error de división\n",
    "except ZeroDivisionError:\n",
    "    print(\"Error: No se puede dividir entre cero.\")\n",
    "\n",
    "# Capturamos si el usuario ingresó un valor que no es número\n",
    "except ValueError:\n",
    "    print(\"Error: Debes ingresar un número válido.\")\n"
   ]
  },
  {
   "cell_type": "markdown",
   "id": "15e2ce0b-4a8c-4b7c-9d13-87d5e47e78f1",
   "metadata": {},
   "source": [
    "9. Escribir un programa que cree un *diccionario* cualquiera. Posteriormente, el programa pedirá al usuario (a través de la función predefinida 'input') que introduzca una clave del diccionario. Si la clave introducida es correcta (es decir, existe en el diccionario), el programa mostrará por pantalla el valor asociado a dicha clave. En caso de que la clave no exista, el programa gestionará de manera apropiada el error, por ejemplo, mostrando un mensaje informativo al usuario."
   ]
  },
  {
   "cell_type": "code",
   "execution_count": 33,
   "id": "5601fd10-5bac-45e2-81dd-ab0b14349fa4",
   "metadata": {},
   "outputs": [
    {
     "name": "stdin",
     "output_type": "stream",
     "text": [
      "Introduce una clave:  edad\n"
     ]
    },
    {
     "name": "stdout",
     "output_type": "stream",
     "text": [
      "Valor asociado: 30\n"
     ]
    }
   ],
   "source": [
    "# Diccionario con algunos datos\n",
    "mi_diccionario = {'nombre': 'Ana', 'edad': 30, 'ciudad': 'Quito'}\n",
    "\n",
    "# Pedimos al usuario que escriba una clave\n",
    "clave = input(\"Introduce una clave: \")\n",
    "\n",
    "try:\n",
    "    # Intentamos mostrar el valor asociado a la clave\n",
    "    print(\"Valor asociado:\", mi_diccionario[clave])\n",
    "\n",
    "# Si la clave no existe, capturamos el error y mostramos un mensaje\n",
    "except KeyError:\n",
    "    print(\"Esa clave no existe en el diccionario.\")\n"
   ]
  },
  {
   "cell_type": "markdown",
   "id": "e3ba1281-71f8-43a0-8bb9-a1dfceaa63a2",
   "metadata": {},
   "source": [
    "10. Escribe una *list comprehension* que construya una lista con los números *enteros* positivos de una lista de números dada. La lista original puede incluir números de tipo *float*, los cuales deben ser descartados."
   ]
  },
  {
   "cell_type": "code",
   "execution_count": 34,
   "id": "45bcd4de-dc44-450f-8f34-b12dcff2de97",
   "metadata": {},
   "outputs": [
    {
     "name": "stdout",
     "output_type": "stream",
     "text": [
      "Enteros positivos: [1, 4, 5]\n"
     ]
    }
   ],
   "source": [
    "# Lista original con enteros y flotantes\n",
    "numeros = [1, -2, 3.5, 4, 7.1, 5, -8, 0]\n",
    "\n",
    "# Lista vacía para los enteros positivos\n",
    "enteros_positivos = []\n",
    "\n",
    "# Índice para recorrer la lista con while\n",
    "i = 0\n",
    "\n",
    "# Mientras no lleguemos al final de la lista\n",
    "while i < len(numeros):\n",
    "    # Obtenemos el elemento actual\n",
    "    n = numeros[i]\n",
    "\n",
    "    # Verificamos si es un entero y positivo\n",
    "    if isinstance(n, int) and n > 0:\n",
    "        # Si cumple, lo agregamos a la lista nueva\n",
    "        enteros_positivos.append(n)\n",
    "\n",
    "    # Avanzamos al siguiente índice\n",
    "    i += 1\n",
    "\n",
    "# Mostramos la lista filtrada\n",
    "print(\"Enteros positivos:\", enteros_positivos)\n"
   ]
  },
  {
   "cell_type": "markdown",
   "id": "77379160-4d90-40d3-9fec-81f1ccf5a51e",
   "metadata": {},
   "source": [
    "11. Escribe una *set comprehension* que, dada una palabra, construya un conjunto que contenga las vocales de dicha palabra."
   ]
  },
  {
   "cell_type": "code",
   "execution_count": 35,
   "id": "168b8f15-2a26-4f90-8b49-7d8fa42e9eac",
   "metadata": {},
   "outputs": [
    {
     "name": "stdout",
     "output_type": "stream",
     "text": [
      "Vocales en la palabra: {'a', 'o'}\n"
     ]
    }
   ],
   "source": [
    "# Palabra de entrada\n",
    "palabra = \"anaconda\"\n",
    "\n",
    "# Creamos un conjunto vacío para las vocales encontradas\n",
    "vocales = set()\n",
    "\n",
    "# Índice para recorrer la palabra\n",
    "i = 0\n",
    "\n",
    "# Mientras no lleguemos al final de la palabra\n",
    "while i < len(palabra):\n",
    "    # Obtenemos la letra actual\n",
    "    letra = palabra[i]\n",
    "\n",
    "    # Verificamos si la letra es una vocal\n",
    "    if letra in 'aeiou':\n",
    "        # Si es vocal, la añadimos al conjunto (sin duplicados)\n",
    "        vocales.add(letra)\n",
    "\n",
    "    # Avanzamos al siguiente carácter\n",
    "    i += 1\n",
    "\n",
    "# Mostramos el conjunto con las vocales encontradas\n",
    "print(\"Vocales en la palabra:\", vocales)\n"
   ]
  },
  {
   "cell_type": "markdown",
   "id": "9ffb4cf7-c683-4fba-a092-c666b2a7d2d0",
   "metadata": {},
   "source": [
    "12. Escribe una *list comprehension* que construya una lista con todos los números del 0 al 50 que contengan el dígito 3. El resultado será: [3, 13, 23, 30, 31, 32, 33, 34, 35, 36, 37, 38, 39, 43]."
   ]
  },
  {
   "cell_type": "code",
   "execution_count": 36,
   "id": "091c44a9-efe5-4bfc-93b1-e189378cf55c",
   "metadata": {},
   "outputs": [
    {
     "name": "stdout",
     "output_type": "stream",
     "text": [
      "Números con el dígito 3: [3, 13, 23, 30, 31, 32, 33, 34, 35, 36, 37, 38, 39, 43]\n"
     ]
    }
   ],
   "source": [
    "# Lista vacía para guardar los números con dígito '3'\n",
    "numeros_con_3 = []\n",
    "\n",
    "# Contador inicial para recorrer del 0 al 50\n",
    "num = 0\n",
    "\n",
    "# Mientras el número sea menor o igual a 50\n",
    "while num <= 50:\n",
    "    # Convertimos el número a cadena para verificar si tiene '3'\n",
    "    if '3' in str(num):\n",
    "        # Si contiene '3', lo agregamos a la lista\n",
    "        numeros_con_3.append(num)\n",
    "\n",
    "    # Incrementamos el número\n",
    "    num += 1\n",
    "\n",
    "# Mostramos la lista con los números que contienen el dígito '3'\n",
    "print(\"Números con el dígito 3:\", numeros_con_3)\n"
   ]
  },
  {
   "cell_type": "markdown",
   "id": "c8b6fd94-f915-49d1-b308-58b82fd33888",
   "metadata": {},
   "source": [
    "13. Escribe una *dictionary comprehension* que construya un diccionario que incluya los tamaños de cada palabra en una frase dada. Ejemplo: el resultado para la frase \"Soy un ser humano\" será {'Soy': 3, 'un': 2, 'ser': 3, 'humano': 6}"
   ]
  },
  {
   "cell_type": "code",
   "execution_count": 37,
   "id": "0dbe68bc-a65b-4dbe-965e-3c77850ee7fc",
   "metadata": {},
   "outputs": [
    {
     "name": "stdout",
     "output_type": "stream",
     "text": [
      "Longitudes de palabras: {'Soy': 3, 'un': 2, 'ser': 3, 'humano': 6}\n"
     ]
    }
   ],
   "source": [
    "# Frase de entrada\n",
    "frase = \"Soy un ser humano\"\n",
    "\n",
    "# Separamos la frase en una lista de palabras\n",
    "palabras = frase.split()\n",
    "\n",
    "# Diccionario vacío para guardar las longitudes\n",
    "longitudes = {}\n",
    "\n",
    "# Índice para recorrer la lista de palabras\n",
    "i = 0\n",
    "\n",
    "# Mientras no lleguemos al final de la lista de palabras\n",
    "while i < len(palabras):\n",
    "    # Obtenemos la palabra actual\n",
    "    palabra = palabras[i]\n",
    "\n",
    "    # Guardamos la longitud de la palabra en el diccionario\n",
    "    longitudes[palabra] = len(palabra)\n",
    "\n",
    "    # Avanzamos al siguiente índice\n",
    "    i += 1\n",
    "\n",
    "# Mostramos el diccionario con palabras y sus tamaños\n",
    "print(\"Longitudes de palabras:\", longitudes)\n"
   ]
  },
  {
   "cell_type": "markdown",
   "id": "81f3743d-305d-486b-a481-9e30c4e8bed6",
   "metadata": {},
   "source": [
    "14. Escribe una *list comprehension* que construya una lista que incluya todos los números del 1 al 10 en orden. La primera mitad se mostrarán en formato numérico; la segunda mitad en texto. Es decir, el resultado será: [1, 2, 3, 4, 5, 'seis', 'siete', 'ocho', 'nueve', 'diez']."
   ]
  },
  {
   "cell_type": "code",
   "execution_count": 38,
   "id": "b9de8013-b32e-444b-a776-2783e54615ca",
   "metadata": {},
   "outputs": [
    {
     "name": "stdout",
     "output_type": "stream",
     "text": [
      "Lista final: [1, 2, 3, 4, 5, 'seis', 'siete', 'ocho', 'nueve', 'diez']\n"
     ]
    }
   ],
   "source": [
    "# Lista vacía para guardar el resultado\n",
    "numeros_y_texto = []\n",
    "\n",
    "# Contador para agregar números del 1 al 5 (numéricos)\n",
    "i = 1\n",
    "while i <= 5:\n",
    "    numeros_y_texto.append(i)\n",
    "    i += 1\n",
    "\n",
    "# Lista con los números en texto del 6 al 10\n",
    "textos = ['seis', 'siete', 'ocho', 'nueve', 'diez']\n",
    "\n",
    "# Índice para recorrer la lista de textos\n",
    "j = 0\n",
    "while j < len(textos):\n",
    "    numeros_y_texto.append(textos[j])\n",
    "    j += 1\n",
    "\n",
    "# Mostramos la lista final\n",
    "print(\"Lista final:\", numeros_y_texto)\n"
   ]
  },
  {
   "cell_type": "code",
   "execution_count": null,
   "id": "52b5b70d-0641-4970-9d6c-0a77347d46d9",
   "metadata": {},
   "outputs": [],
   "source": []
  }
 ],
 "metadata": {
  "kernelspec": {
   "display_name": "Python 3 (ipykernel)",
   "language": "python",
   "name": "python3"
  },
  "language_info": {
   "codemirror_mode": {
    "name": "ipython",
    "version": 3
   },
   "file_extension": ".py",
   "mimetype": "text/x-python",
   "name": "python",
   "nbconvert_exporter": "python",
   "pygments_lexer": "ipython3",
   "version": "3.13.5"
  }
 },
 "nbformat": 4,
 "nbformat_minor": 5
}
