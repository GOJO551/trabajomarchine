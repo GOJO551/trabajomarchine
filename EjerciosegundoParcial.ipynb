{
 "cells": [
  {
   "cell_type": "markdown",
   "id": "ec0b2c8b-c100-4f88-95dd-84f2008ecf37",
   "metadata": {},
   "source": [
    "<img src=\"img/Recurso-26.png\" width=\"200\">\n",
    "\n",
    "## 01MIAR - Funciones- DEBER EJERCICIOS\n",
    "\n",
    "![logo](img/python_logo.png)\n",
    "\n",
    "*Nombre: Ivan Lisintuña*"
   ]
  },
  {
   "cell_type": "markdown",
   "id": "7e2e51b9-2837-469d-a6b8-7106abeb732f",
   "metadata": {},
   "source": [
    "## Ejercicios"
   ]
  },
  {
   "cell_type": "markdown",
   "id": "4c2f655b-2c10-483a-9421-2e8c7e56e058",
   "metadata": {},
   "source": [
    "1. Escribe una función que reciba como entrada una *lista* con números y devuelva como resultado una *lista* con los cuadrados de los números contenidos en la lista de entrada."
   ]
  },
  {
   "cell_type": "code",
   "execution_count": 19,
   "id": "8cb0932e-56d3-459d-aa6b-d745fae5ff80",
   "metadata": {},
   "outputs": [
    {
     "name": "stdout",
     "output_type": "stream",
     "text": [
      "Lista: [1, 4, 9, 16, 25]\n"
     ]
    }
   ],
   "source": [
    "# Definimos una función llamada 'cuadrados' que recibe una lista como parámetro\n",
    "def cuadrados(lista):\n",
    "    # Creamos una lista vacía donde guardaremos los resultados (los cuadrados)\n",
    "    resultado = []\n",
    "    # Recorremos cada elemento 'x' de la lista que recibimos\n",
    "    for x in lista:\n",
    "        # Calculamos el cuadrado de 'x' y lo agregamos a la lista 'resultado'\n",
    "        resultado.append(x * x)\n",
    "    # Devolvemos la lista de resultados (los cuadrados)\n",
    "    return resultado\n",
    "\n",
    "# Creamos una lista de números del 1 al 5\n",
    "lista_numeros = [1, 2, 3, 4, 5]\n",
    "\n",
    "# Imprimimos el mensaje \"Lista:\" seguido de los cuadrados de los números\n",
    "print(\"Lista:\", cuadrados(lista_numeros))\n",
    "\n"
   ]
  },
  {
   "cell_type": "markdown",
   "id": "3efc03c8-21dd-404a-bd3c-a0c23ad1fae4",
   "metadata": {},
   "source": [
    "2. Escribe una función que reciba números como entrada y devuelva la suma de los mismos. La función debe ser capaz de recibir una cantidad indeterminada de números. La función no debe recibir directamente ningún objeto complejo (lista, conjunto, etc.)."
   ]
  },
  {
   "cell_type": "code",
   "execution_count": 20,
   "id": "67fc5431-91b8-46d9-8d10-259d2556cd3f",
   "metadata": {},
   "outputs": [
    {
     "name": "stdout",
     "output_type": "stream",
     "text": [
      "Suma: 25\n"
     ]
    }
   ],
   "source": [
    "# Definimos una función llamada 'suma_indeterminada' que puede recibir cualquier cantidad de números\n",
    "def suma_indeterminada(*numeros):\n",
    "    # Inicializamos una variable 'total' en 0, donde sumaremos todos los números\n",
    "    total = 0\n",
    "    # Recorremos cada número 'n' recibido como argumento\n",
    "    for n in numeros:\n",
    "        # Sumamos cada número a la variable 'total'\n",
    "        total += n\n",
    "    # Devolvemos el resultado total de la suma\n",
    "    return total\n",
    "\n",
    "# Imprimimos el mensaje \"Suma:\" seguido del resultado de sumar 5, 10, 3 y 7\n",
    "print(\"Suma:\", suma_indeterminada(5, 10, 3, 7))\n"
   ]
  },
  {
   "cell_type": "markdown",
   "id": "4a3ca09b-8d39-43f1-8af2-739ab5f6040f",
   "metadata": {},
   "source": [
    "3. Escribe una función que reciba un string como entrada y devuelva el string al revés. Ejemplo: si el string de entrada es 'hola', el resultado será 'aloh'."
   ]
  },
  {
   "cell_type": "code",
   "execution_count": 21,
   "id": "93f58b75-1430-4374-a17a-1267688a2a37",
   "metadata": {},
   "outputs": [
    {
     "name": "stdout",
     "output_type": "stream",
     "text": [
      "Reverso de 'hola mijin' → nijim aloh\n"
     ]
    }
   ],
   "source": [
    "# Definimos una función llamada 'invertir_string' que recibe un texto como parámetro\n",
    "def invertir_string(texto):\n",
    "    # Usamos slicing para invertir el texto y lo devolvemos\n",
    "    return texto[::-1]\n",
    "\n",
    "# Asignamos a la variable 'texto' la cadena \"hola mijin\"\n",
    "texto = \"hola mijin\"\n",
    "\n",
    "# Imprimimos el texto original y su versión invertida usando la función 'invertir_string'\n",
    "print(\"Reverso de '\"+texto+\"' →\", invertir_string(texto))\n"
   ]
  },
  {
   "cell_type": "markdown",
   "id": "c4e770b7-7adc-4c31-b050-0158b58bf229",
   "metadata": {},
   "source": [
    "4. Escribe una función *lambda* que, al igual que la función desarrollada en el ejercicio anterior, invierta el string recibido como parámetro. Ejemplo: si el string de entrada es 'hola', el resultado será 'aloh'."
   ]
  },
  {
   "cell_type": "code",
   "execution_count": 22,
   "id": "cfe4ccf5-e786-4b5e-8596-f7e715c9d037",
   "metadata": {},
   "outputs": [
    {
     "name": "stdout",
     "output_type": "stream",
     "text": [
      "Reverso (lambda) de 'pythonpro' → orpnohtyp\n"
     ]
    }
   ],
   "source": [
    "# Creamos una función anónima (lambda) llamada 'invertir_lambda' que recibe una cadena 's' y la invierte\n",
    "invertir_lambda = lambda s: s[::-1]\n",
    "\n",
    "# Asignamos a la variable 'texto' la cadena \"pythonpro\"\n",
    "texto = \"pythonpro\"\n",
    "\n",
    "# Imprimimos el texto original y su reverso usando la función lambda\n",
    "print(\"Reverso (lambda) de '\"+texto+\"' →\", invertir_lambda(texto))\n"
   ]
  },
  {
   "cell_type": "markdown",
   "id": "d6924cff-d375-4e53-98c9-bd53c50b2364",
   "metadata": {},
   "source": [
    "5. Escribe una función que compruebe si un número se encuentra dentro de un rango específico."
   ]
  },
  {
   "cell_type": "code",
   "execution_count": 23,
   "id": "c3c021e1-ef4b-4df3-bb85-da2c20cbfc09",
   "metadata": {},
   "outputs": [
    {
     "name": "stdout",
     "output_type": "stream",
     "text": [
      "¿Está 7 entre 1 y 10? → True\n",
      "¿Está 0 entre 1 y 10? → False\n"
     ]
    }
   ],
   "source": [
    "# Definimos una función llamada 'esta_en_rango' que recibe tres valores: el número a evaluar, el inicio y el fin del rango\n",
    "def esta_en_rango(valor, inicio, fin):\n",
    "    # Devolvemos True si el valor está dentro del rango [inicio, fin], incluyendo los extremos\n",
    "    return inicio <= valor <= fin\n",
    "\n",
    "# Imprimimos si el número 7 está entre 1 y 10 usando la función 'esta_en_rango'\n",
    "print(\"¿Está 7 entre 1 y 10? →\", esta_en_rango(7, 1, 10))\n",
    "\n",
    "# Imprimimos si el número 0 está entre 1 y 10 usando la misma función\n",
    "print(\"¿Está 0 entre 1 y 10? →\", esta_en_rango(0, 1, 10))\n"
   ]
  },
  {
   "cell_type": "markdown",
   "id": "ff3771ac-7a09-4ee9-8bed-796ce1e0873f",
   "metadata": {},
   "source": [
    "6. Escribe una función que reciba un número entero positivo como parámetro y devuelva una lista que contenga los 5 primeros múltiplos de dicho número. Por ejemplo, si la función recibe el número 3, devolverá la lista [3, 6, 9, 12, 15]. Si la función recibe un parámetro incorrecto (por ejemplo, un múmero menor o igual a cero), mostrará un mensaje de error por pantalla y devolverá una lista vacía.\n"
   ]
  },
  {
   "cell_type": "code",
   "execution_count": 24,
   "id": "0c440c0d-3426-4311-90b4-a510a5644e17",
   "metadata": {},
   "outputs": [
    {
     "name": "stdout",
     "output_type": "stream",
     "text": [
      "5 primeros múltiplos de 3 → [3, 6, 9, 12, 15]\n",
      "Error: el número debe ser mayor que cero.\n",
      "5 primeros múltiplos de -1 → []\n"
     ]
    }
   ],
   "source": [
    "# Definimos una función llamada 'primeros_multiplos' que recibe un número 'n'\n",
    "def primeros_multiplos(n):\n",
    "    # Si 'n' es menor o igual a 0, mostramos un mensaje de error\n",
    "    if n <= 0:\n",
    "        print(\"Error: el número debe ser mayor que cero.\")\n",
    "        # Devolvemos una lista vacía para evitar errores\n",
    "        return []\n",
    "    # Si 'n' es mayor que 0, usamos una lista por comprensión para obtener los 5 primeros múltiplos de 'n'\n",
    "    return [n * i for i in range(1, 6)]\n",
    "\n",
    "# Imprimimos los 5 primeros múltiplos del número 3\n",
    "print(\"5 primeros múltiplos de 3 →\", primeros_multiplos(3))\n",
    "\n",
    "# Imprimimos los 5 primeros múltiplos del número -1 (esto mostrará un error porque el número no es válido)\n",
    "print(\"5 primeros múltiplos de -1 →\", primeros_multiplos(-1))\n"
   ]
  },
  {
   "cell_type": "markdown",
   "id": "9c807e4a-bc26-4734-bfda-fddbf9d4e666",
   "metadata": {},
   "source": [
    "7. Escribe una función que reciba una lista como parámetro y compruebe si la lista tiene duplicados. La función devolverá *True* si la lista tiene duplicados y *False* si no los tiene."
   ]
  },
  {
   "cell_type": "code",
   "execution_count": 25,
   "id": "7a0ae9b7-10b8-4a24-8e24-12b2d65ef2de",
   "metadata": {},
   "outputs": [
    {
     "name": "stdout",
     "output_type": "stream",
     "text": [
      "¿[1, 2, 2, 3] tiene duplicados? → True\n",
      "¿[1, 2, 3] tiene duplicados? → False\n"
     ]
    }
   ],
   "source": [
    "# Definimos una función llamada 'tiene_duplicados' que recibe una lista como parámetro\n",
    "def tiene_duplicados(lista):\n",
    "    # Convertimos la lista a un conjunto (set), que elimina duplicados, y comparamos su longitud\n",
    "    # Si la longitud del set es diferente a la de la lista original, es porque había duplicados\n",
    "    return len(lista) != len(set(lista))\n",
    "\n",
    "# Imprimimos si la lista [1, 2, 2, 3] tiene duplicados (sí, el 2 se repite)\n",
    "print(\"¿[1, 2, 2, 3] tiene duplicados? →\", tiene_duplicados([1, 2, 2, 3]))\n",
    "\n",
    "# Imprimimos si la lista [1, 2, 3] tiene duplicados (no, todos son distintos)\n",
    "print(\"¿[1, 2, 3] tiene duplicados? →\", tiene_duplicados([1, 2, 3]))\n"
   ]
  },
  {
   "cell_type": "markdown",
   "id": "834e9cc1-579a-432e-a92c-22d43ff3813d",
   "metadata": {},
   "source": [
    "8. Escribe una función *lambda* que, al igual que la función desarrollada en el ejercicio anterior, reciba una lista como parámetro y compruebe si la lista tiene duplicados. La función devolverá *True* si la lista tiene duplicados y *False* si no los tiene."
   ]
  },
  {
   "cell_type": "code",
   "execution_count": 26,
   "id": "590cfa7e-f07b-4d75-85ad-187747e19d51",
   "metadata": {},
   "outputs": [
    {
     "name": "stdout",
     "output_type": "stream",
     "text": [
      "¿[4, 4, 5] tiene duplicados? → True\n",
      "¿[6, 7, 8] tiene duplicados? → False\n"
     ]
    }
   ],
   "source": [
    "# Creamos una función lambda (anónima) llamada 'duplicados_lambda'\n",
    "# Esta función recibe una lista 'l' y devuelve True si tiene duplicados, usando la comparación de longitudes\n",
    "duplicados_lambda = lambda l: len(l) != len(set(l))\n",
    "\n",
    "# Imprimimos si la lista [4, 4, 5] tiene duplicados (sí, el 4 se repite)\n",
    "print(\"¿[4, 4, 5] tiene duplicados? →\", duplicados_lambda([4, 4, 5]))\n",
    "\n",
    "# Imprimimos si la lista [6, 7, 8] tiene duplicados (no, todos son diferentes)\n",
    "print(\"¿[6, 7, 8] tiene duplicados? →\", duplicados_lambda([6, 7, 8]))\n"
   ]
  },
  {
   "cell_type": "markdown",
   "id": "0b9c4658-2997-42cb-830f-977053aecf29",
   "metadata": {},
   "source": [
    "9. Escribe una función que compruebe si un string dado es un palíndromo. Un palíndromo es una secuencia de caracteres que se lee igual de izquierda a derecha que de derecha a izquierda. Por ejemplo, la función devolverá *True* si recibe el string \"reconocer\" y *False* si recibe el string \"python\"."
   ]
  },
  {
   "cell_type": "code",
   "execution_count": 27,
   "id": "c36acee9-3aaf-428c-a253-0d551a235fb9",
   "metadata": {},
   "outputs": [
    {
     "name": "stdout",
     "output_type": "stream",
     "text": [
      "¿'reconocer' es palíndromo? → True\n",
      "¿'Python' es palíndromo? → False\n"
     ]
    }
   ],
   "source": [
    "# Definimos una función llamada 'es_palindromo' que recibe una cadena de texto\n",
    "def es_palindromo(texto):\n",
    "    # Quitamos los espacios y convertimos el texto a minúsculas para comparar correctamente\n",
    "    limpio = texto.replace(\" \", \"\").lower()\n",
    "    # Comparamos el texto limpio con su versión invertida usando slicing\n",
    "    return limpio == limpio[::-1]\n",
    "\n",
    "# Imprimimos si la palabra 'reconocer' es un palíndromo (sí, se lee igual al revés)\n",
    "print(\"¿'reconocer' es palíndromo? →\", es_palindromo(\"reconocer\"))\n",
    "\n",
    "# Imprimimos si la palabra 'Python' es un palíndromo (no, se lee diferente al revés)\n",
    "print(\"¿'Python' es palíndromo? →\", es_palindromo(\"Python\"))\n"
   ]
  },
  {
   "cell_type": "markdown",
   "id": "a5ba0a62-b134-4185-a8d1-15a0b538b99f",
   "metadata": {},
   "source": [
    "link del repositorio:<br>\n",
    "*https://github.com/GOJO551/trabajomarchine.git*"
   ]
  },
  {
   "cell_type": "code",
   "execution_count": null,
   "id": "dab546dd-2317-48da-852a-0c5e2b3181c0",
   "metadata": {},
   "outputs": [],
   "source": []
  }
 ],
 "metadata": {
  "kernelspec": {
   "display_name": "Python 3 (ipykernel)",
   "language": "python",
   "name": "python3"
  },
  "language_info": {
   "codemirror_mode": {
    "name": "ipython",
    "version": 3
   },
   "file_extension": ".py",
   "mimetype": "text/x-python",
   "name": "python",
   "nbconvert_exporter": "python",
   "pygments_lexer": "ipython3",
   "version": "3.13.5"
  }
 },
 "nbformat": 4,
 "nbformat_minor": 5
}
